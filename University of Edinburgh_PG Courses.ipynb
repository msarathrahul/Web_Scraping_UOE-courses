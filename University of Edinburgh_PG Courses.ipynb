{
 "cells": [
  {
   "cell_type": "code",
   "execution_count": 111,
   "id": "fc0283f5",
   "metadata": {},
   "outputs": [],
   "source": [
    "import urllib.request\n",
    "from bs4 import BeautifulSoup"
   ]
  },
  {
   "cell_type": "code",
   "execution_count": 112,
   "id": "48d7d77a",
   "metadata": {},
   "outputs": [],
   "source": [
    "link = 'https://www.ed.ac.uk/studying/postgraduate/degrees/index.php&edition=2023?r=site%2Fsearch&pgSearch=&yt0=&moa=a'"
   ]
  },
  {
   "cell_type": "code",
   "execution_count": 113,
   "id": "7bd387e9",
   "metadata": {},
   "outputs": [],
   "source": [
    "website_html = urllib.request.urlopen(link).read()"
   ]
  },
  {
   "cell_type": "code",
   "execution_count": 114,
   "id": "b5335c0c",
   "metadata": {},
   "outputs": [],
   "source": [
    "soup = BeautifulSoup(website_html,'lxml')"
   ]
  },
  {
   "cell_type": "code",
   "execution_count": 115,
   "id": "85065ceb",
   "metadata": {},
   "outputs": [],
   "source": [
    "#soup.prettify()"
   ]
  },
  {
   "cell_type": "code",
   "execution_count": 116,
   "id": "545fe6d5",
   "metadata": {},
   "outputs": [],
   "source": [
    "courses = soup.find_all('a',class_='list-group-item')"
   ]
  },
  {
   "cell_type": "code",
   "execution_count": 117,
   "id": "4a296e6c",
   "metadata": {},
   "outputs": [
    {
     "data": {
      "text/plain": [
       "526"
      ]
     },
     "execution_count": 117,
     "metadata": {},
     "output_type": "execute_result"
    }
   ],
   "source": [
    "len(courses)"
   ]
  },
  {
   "cell_type": "code",
   "execution_count": 118,
   "id": "3aa56529",
   "metadata": {},
   "outputs": [
    {
     "name": "stdout",
     "output_type": "stream",
     "text": [
      "CPU times: user 54.2 s, sys: 3.18 s, total: 57.4 s\n",
      "Wall time: 19min 35s\n"
     ]
    }
   ],
   "source": [
    "%%time\n",
    "PG_dict = {}\n",
    "for course in courses:\n",
    "    domain1 = 'https://www.ed.ac.uk'\n",
    "    domain2 = course['href']\n",
    "    domain = domain1+domain2\n",
    "    id = domain.split('=')[-1]\n",
    "    name_of_course = course.text\n",
    "    #first 5 are space\n",
    "    #print(name_of_course.split(' '))\n",
    "    o_or_no = name_of_course.split(' ')[0:1]\n",
    "    if '\\nonline\\n' in o_or_no:\n",
    "        o_or_no = 'Online'\n",
    "    else:\n",
    "        o_or_no = 'Offline'\n",
    "    ls = name_of_course.split(' ')[1:-1]\n",
    "    #print(ls)\n",
    "    sep = name_of_course.split(' ')[1:-1].index('\\n')\n",
    "    course_name = ' '.join(ls[3:sep-1])\n",
    "    degree_types = ' '.join(ls[sep+4:-1])\n",
    "    #print(len(name_of_course))\n",
    "    #print('*'*20)\n",
    "    website_link = urllib.request.urlopen(domain).read()\n",
    "    soup = BeautifulSoup(website_link,'lxml')\n",
    "    details = soup.find('div',class_='col-xs 12')\n",
    "    #print(details.ul.text.split('\\n'))\n",
    "    #print(len(details.ul.text.split('\\n')))\n",
    "    School_index = details.ul.text.split('\\n').index('School: ')\n",
    "    College_index = details.ul.text.split('\\n').index('College: ')\n",
    "    #print(School_index,College_index)\n",
    "    School = ' '.join(details.ul.text.split('\\n')[School_index+2:College_index]).strip()\n",
    "    College = ' '.join(details.ul.text.split('\\n')[College_index+1:]).strip()\n",
    "    programm_code = soup.find_all('table',class_='table table-striped')\n",
    "    #print(programm_code)\n",
    "    try:\n",
    "        programm_code = programm_code[1].tbody.a['href'].split('=')[-1]\n",
    "    except:\n",
    "        programm_code = 'No Program Code'\n",
    "    table = soup.find_all('table',class_='table table-striped')\n",
    "    try:\n",
    "        domain = table[-1].tbody.tr.a['href']\n",
    "        website_link = urllib.request.urlopen(domain).read()\n",
    "        soup = BeautifulSoup(website_link,'lxml')\n",
    "        table = soup.find_all('table',class_='table table-bordered')\n",
    "        cost = []\n",
    "        for i in table:\n",
    "            content = i.find_all('tr')\n",
    "            for j in content:\n",
    "                #print(j.text.split('\\n')[1:-1])\n",
    "                cost.append(j.text.split('\\n')[1:-1])\n",
    "        try:\n",
    "            cost = dict(zip(cost[0],cost[1]))\n",
    "        except:\n",
    "            cost = 'Not applicable'\n",
    "    except:\n",
    "        cost = 'Not applicable'\n",
    "    #print(course_name)\n",
    "    #print(cost)\n",
    "    PG_dict[id] = [course_name,programm_code,degree_types,o_or_no,domain,School,College,cost]"
   ]
  },
  {
   "cell_type": "code",
   "execution_count": 119,
   "id": "dd0b722b",
   "metadata": {},
   "outputs": [
    {
     "data": {
      "text/plain": [
       "526"
      ]
     },
     "execution_count": 119,
     "metadata": {},
     "output_type": "execute_result"
    }
   ],
   "source": [
    "len(PG_dict)"
   ]
  },
  {
   "cell_type": "code",
   "execution_count": 120,
   "id": "03e66a91",
   "metadata": {},
   "outputs": [],
   "source": [
    "import pandas as pd"
   ]
  },
  {
   "cell_type": "code",
   "execution_count": 121,
   "id": "3743e198",
   "metadata": {},
   "outputs": [],
   "source": [
    "PG_df = pd.DataFrame(PG_dict).T"
   ]
  },
  {
   "cell_type": "code",
   "execution_count": 122,
   "id": "b614fefd",
   "metadata": {},
   "outputs": [],
   "source": [
    "PG_df['ID'] = PG_df.index"
   ]
  },
  {
   "cell_type": "code",
   "execution_count": 123,
   "id": "bb6d4018",
   "metadata": {},
   "outputs": [],
   "source": [
    "PG_df.reset_index(drop=True,inplace=True)"
   ]
  },
  {
   "cell_type": "code",
   "execution_count": 124,
   "id": "afbe7537",
   "metadata": {},
   "outputs": [
    {
     "data": {
      "text/html": [
       "<div>\n",
       "<style scoped>\n",
       "    .dataframe tbody tr th:only-of-type {\n",
       "        vertical-align: middle;\n",
       "    }\n",
       "\n",
       "    .dataframe tbody tr th {\n",
       "        vertical-align: top;\n",
       "    }\n",
       "\n",
       "    .dataframe thead th {\n",
       "        text-align: right;\n",
       "    }\n",
       "</style>\n",
       "<table border=\"1\" class=\"dataframe\">\n",
       "  <thead>\n",
       "    <tr style=\"text-align: right;\">\n",
       "      <th></th>\n",
       "      <th>0</th>\n",
       "      <th>1</th>\n",
       "      <th>2</th>\n",
       "      <th>3</th>\n",
       "      <th>4</th>\n",
       "      <th>5</th>\n",
       "      <th>6</th>\n",
       "      <th>7</th>\n",
       "      <th>ID</th>\n",
       "    </tr>\n",
       "  </thead>\n",
       "  <tbody>\n",
       "    <tr>\n",
       "      <th>0</th>\n",
       "      <td>Accounting</td>\n",
       "      <td>PRPHDACCOU1F</td>\n",
       "      <td>PhD</td>\n",
       "      <td>Offline</td>\n",
       "      <td>http://www.ed.ac.uk/studying/postgraduate/fees...</td>\n",
       "      <td>Business School</td>\n",
       "      <td>Arts, Humanities &amp; Social Sciences</td>\n",
       "      <td>{'Academic Session': '2023/4', 'Scotland': 'Ho...</td>\n",
       "      <td>1028</td>\n",
       "    </tr>\n",
       "    <tr>\n",
       "      <th>1</th>\n",
       "      <td>Accounting and Finance</td>\n",
       "      <td>PTMSCACFIN1F</td>\n",
       "      <td>MSc</td>\n",
       "      <td>Offline</td>\n",
       "      <td>http://www.ed.ac.uk/studying/postgraduate/fees...</td>\n",
       "      <td>Business School</td>\n",
       "      <td>Arts, Humanities &amp; Social Sciences</td>\n",
       "      <td>{'Academic Session': '2023/4', 'Scotland': '£2...</td>\n",
       "      <td>416</td>\n",
       "    </tr>\n",
       "    <tr>\n",
       "      <th>2</th>\n",
       "      <td>Acoustics and Music Technology</td>\n",
       "      <td>PTMSCACMUT1F</td>\n",
       "      <td>MSc</td>\n",
       "      <td>Offline</td>\n",
       "      <td>http://www.ed.ac.uk/studying/postgraduate/fees...</td>\n",
       "      <td>Edinburgh College of Art</td>\n",
       "      <td>Arts, Humanities &amp; Social Sciences</td>\n",
       "      <td>{'Academic Session': '2023/4', 'Scotland': '£1...</td>\n",
       "      <td>478</td>\n",
       "    </tr>\n",
       "    <tr>\n",
       "      <th>3</th>\n",
       "      <td>Advanced Care</td>\n",
       "      <td>PRPHDADVCA1F</td>\n",
       "      <td>PhD with Integrated Study</td>\n",
       "      <td>Offline</td>\n",
       "      <td>http://www.ed.ac.uk/studying/postgraduate/fees...</td>\n",
       "      <td>Engineering</td>\n",
       "      <td>Science &amp; Engineering</td>\n",
       "      <td>{'Academic Session': '2023/4', 'Scotland': 'Ho...</td>\n",
       "      <td>1048</td>\n",
       "    </tr>\n",
       "    <tr>\n",
       "      <th>4</th>\n",
       "      <td>Advanced Chemical Engineering</td>\n",
       "      <td>PTMSCADVCE1F</td>\n",
       "      <td>MSc</td>\n",
       "      <td>Offline</td>\n",
       "      <td>http://www.ed.ac.uk/studying/postgraduate/fees...</td>\n",
       "      <td>Engineering</td>\n",
       "      <td>Science &amp; Engineering</td>\n",
       "      <td>{'Academic Session': '2023/4', 'Scotland': '£1...</td>\n",
       "      <td>913</td>\n",
       "    </tr>\n",
       "  </tbody>\n",
       "</table>\n",
       "</div>"
      ],
      "text/plain": [
       "                                0             1                          2  \\\n",
       "0                      Accounting  PRPHDACCOU1F                        PhD   \n",
       "1          Accounting and Finance  PTMSCACFIN1F                        MSc   \n",
       "2  Acoustics and Music Technology  PTMSCACMUT1F                        MSc   \n",
       "3                  Advanced Care   PRPHDADVCA1F  PhD with Integrated Study   \n",
       "4   Advanced Chemical Engineering  PTMSCADVCE1F                        MSc   \n",
       "\n",
       "         3                                                  4  \\\n",
       "0  Offline  http://www.ed.ac.uk/studying/postgraduate/fees...   \n",
       "1  Offline  http://www.ed.ac.uk/studying/postgraduate/fees...   \n",
       "2  Offline  http://www.ed.ac.uk/studying/postgraduate/fees...   \n",
       "3  Offline  http://www.ed.ac.uk/studying/postgraduate/fees...   \n",
       "4  Offline  http://www.ed.ac.uk/studying/postgraduate/fees...   \n",
       "\n",
       "                          5                                   6  \\\n",
       "0           Business School  Arts, Humanities & Social Sciences   \n",
       "1           Business School  Arts, Humanities & Social Sciences   \n",
       "2  Edinburgh College of Art  Arts, Humanities & Social Sciences   \n",
       "3               Engineering               Science & Engineering   \n",
       "4               Engineering               Science & Engineering   \n",
       "\n",
       "                                                   7    ID  \n",
       "0  {'Academic Session': '2023/4', 'Scotland': 'Ho...  1028  \n",
       "1  {'Academic Session': '2023/4', 'Scotland': '£2...   416  \n",
       "2  {'Academic Session': '2023/4', 'Scotland': '£1...   478  \n",
       "3  {'Academic Session': '2023/4', 'Scotland': 'Ho...  1048  \n",
       "4  {'Academic Session': '2023/4', 'Scotland': '£1...   913  "
      ]
     },
     "execution_count": 124,
     "metadata": {},
     "output_type": "execute_result"
    }
   ],
   "source": [
    "PG_df.head()"
   ]
  },
  {
   "cell_type": "code",
   "execution_count": 125,
   "id": "3970513f",
   "metadata": {},
   "outputs": [],
   "source": [
    "PG_df.rename({0:'Program',1:'Program_Code',2:'Degrees',3:'Mode_of_study',4:'Link',5:'School',6:'College',7:'Tution fees'},axis=1,inplace=True)"
   ]
  },
  {
   "cell_type": "code",
   "execution_count": 126,
   "id": "8ca17761",
   "metadata": {},
   "outputs": [
    {
     "data": {
      "text/html": [
       "<div>\n",
       "<style scoped>\n",
       "    .dataframe tbody tr th:only-of-type {\n",
       "        vertical-align: middle;\n",
       "    }\n",
       "\n",
       "    .dataframe tbody tr th {\n",
       "        vertical-align: top;\n",
       "    }\n",
       "\n",
       "    .dataframe thead th {\n",
       "        text-align: right;\n",
       "    }\n",
       "</style>\n",
       "<table border=\"1\" class=\"dataframe\">\n",
       "  <thead>\n",
       "    <tr style=\"text-align: right;\">\n",
       "      <th></th>\n",
       "      <th>Program</th>\n",
       "      <th>Program_Code</th>\n",
       "      <th>Degrees</th>\n",
       "      <th>Mode_of_study</th>\n",
       "      <th>Link</th>\n",
       "      <th>School</th>\n",
       "      <th>College</th>\n",
       "      <th>Tution fees</th>\n",
       "      <th>ID</th>\n",
       "    </tr>\n",
       "  </thead>\n",
       "  <tbody>\n",
       "    <tr>\n",
       "      <th>0</th>\n",
       "      <td>Accounting</td>\n",
       "      <td>PRPHDACCOU1F</td>\n",
       "      <td>PhD</td>\n",
       "      <td>Offline</td>\n",
       "      <td>http://www.ed.ac.uk/studying/postgraduate/fees...</td>\n",
       "      <td>Business School</td>\n",
       "      <td>Arts, Humanities &amp; Social Sciences</td>\n",
       "      <td>{'Academic Session': '2023/4', 'Scotland': 'Ho...</td>\n",
       "      <td>1028</td>\n",
       "    </tr>\n",
       "    <tr>\n",
       "      <th>1</th>\n",
       "      <td>Accounting and Finance</td>\n",
       "      <td>PTMSCACFIN1F</td>\n",
       "      <td>MSc</td>\n",
       "      <td>Offline</td>\n",
       "      <td>http://www.ed.ac.uk/studying/postgraduate/fees...</td>\n",
       "      <td>Business School</td>\n",
       "      <td>Arts, Humanities &amp; Social Sciences</td>\n",
       "      <td>{'Academic Session': '2023/4', 'Scotland': '£2...</td>\n",
       "      <td>416</td>\n",
       "    </tr>\n",
       "    <tr>\n",
       "      <th>2</th>\n",
       "      <td>Acoustics and Music Technology</td>\n",
       "      <td>PTMSCACMUT1F</td>\n",
       "      <td>MSc</td>\n",
       "      <td>Offline</td>\n",
       "      <td>http://www.ed.ac.uk/studying/postgraduate/fees...</td>\n",
       "      <td>Edinburgh College of Art</td>\n",
       "      <td>Arts, Humanities &amp; Social Sciences</td>\n",
       "      <td>{'Academic Session': '2023/4', 'Scotland': '£1...</td>\n",
       "      <td>478</td>\n",
       "    </tr>\n",
       "    <tr>\n",
       "      <th>3</th>\n",
       "      <td>Advanced Care</td>\n",
       "      <td>PRPHDADVCA1F</td>\n",
       "      <td>PhD with Integrated Study</td>\n",
       "      <td>Offline</td>\n",
       "      <td>http://www.ed.ac.uk/studying/postgraduate/fees...</td>\n",
       "      <td>Engineering</td>\n",
       "      <td>Science &amp; Engineering</td>\n",
       "      <td>{'Academic Session': '2023/4', 'Scotland': 'Ho...</td>\n",
       "      <td>1048</td>\n",
       "    </tr>\n",
       "    <tr>\n",
       "      <th>4</th>\n",
       "      <td>Advanced Chemical Engineering</td>\n",
       "      <td>PTMSCADVCE1F</td>\n",
       "      <td>MSc</td>\n",
       "      <td>Offline</td>\n",
       "      <td>http://www.ed.ac.uk/studying/postgraduate/fees...</td>\n",
       "      <td>Engineering</td>\n",
       "      <td>Science &amp; Engineering</td>\n",
       "      <td>{'Academic Session': '2023/4', 'Scotland': '£1...</td>\n",
       "      <td>913</td>\n",
       "    </tr>\n",
       "  </tbody>\n",
       "</table>\n",
       "</div>"
      ],
      "text/plain": [
       "                          Program  Program_Code                    Degrees  \\\n",
       "0                      Accounting  PRPHDACCOU1F                        PhD   \n",
       "1          Accounting and Finance  PTMSCACFIN1F                        MSc   \n",
       "2  Acoustics and Music Technology  PTMSCACMUT1F                        MSc   \n",
       "3                  Advanced Care   PRPHDADVCA1F  PhD with Integrated Study   \n",
       "4   Advanced Chemical Engineering  PTMSCADVCE1F                        MSc   \n",
       "\n",
       "  Mode_of_study                                               Link  \\\n",
       "0       Offline  http://www.ed.ac.uk/studying/postgraduate/fees...   \n",
       "1       Offline  http://www.ed.ac.uk/studying/postgraduate/fees...   \n",
       "2       Offline  http://www.ed.ac.uk/studying/postgraduate/fees...   \n",
       "3       Offline  http://www.ed.ac.uk/studying/postgraduate/fees...   \n",
       "4       Offline  http://www.ed.ac.uk/studying/postgraduate/fees...   \n",
       "\n",
       "                     School                             College  \\\n",
       "0           Business School  Arts, Humanities & Social Sciences   \n",
       "1           Business School  Arts, Humanities & Social Sciences   \n",
       "2  Edinburgh College of Art  Arts, Humanities & Social Sciences   \n",
       "3               Engineering               Science & Engineering   \n",
       "4               Engineering               Science & Engineering   \n",
       "\n",
       "                                         Tution fees    ID  \n",
       "0  {'Academic Session': '2023/4', 'Scotland': 'Ho...  1028  \n",
       "1  {'Academic Session': '2023/4', 'Scotland': '£2...   416  \n",
       "2  {'Academic Session': '2023/4', 'Scotland': '£1...   478  \n",
       "3  {'Academic Session': '2023/4', 'Scotland': 'Ho...  1048  \n",
       "4  {'Academic Session': '2023/4', 'Scotland': '£1...   913  "
      ]
     },
     "execution_count": 126,
     "metadata": {},
     "output_type": "execute_result"
    }
   ],
   "source": [
    "PG_df.head()"
   ]
  },
  {
   "cell_type": "code",
   "execution_count": 127,
   "id": "e4a0cb34",
   "metadata": {},
   "outputs": [],
   "source": [
    "PG_df.to_csv('UOE_PG_Courses.csv')"
   ]
  },
  {
   "cell_type": "code",
   "execution_count": null,
   "id": "1c8226f9",
   "metadata": {},
   "outputs": [],
   "source": []
  }
 ],
 "metadata": {
  "kernelspec": {
   "display_name": "Python 3 (ipykernel)",
   "language": "python",
   "name": "python3"
  },
  "language_info": {
   "codemirror_mode": {
    "name": "ipython",
    "version": 3
   },
   "file_extension": ".py",
   "mimetype": "text/x-python",
   "name": "python",
   "nbconvert_exporter": "python",
   "pygments_lexer": "ipython3",
   "version": "3.9.12"
  }
 },
 "nbformat": 4,
 "nbformat_minor": 5
}
